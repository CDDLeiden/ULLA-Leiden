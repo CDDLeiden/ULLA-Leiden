{
 "cells": [
  {
   "cell_type": "markdown",
   "source": [
    "# Clustering Molecules\n",
    "\n",
    "In this assignment, you will use your previous knowledge about molecular descriptors and unsupervised learning to cluster molecules. The data set you will be working with is saved in the `molecules.csv` file. It provides only the structures of molecules as SMILES strings. These molecules can be clustered in multiple ways. Select the best set of descriptors and a clustering method that in your opinion captures the relationships between the molecules in the data set in the most meaningful way. Note that this assignment does not have a single correct answer. Therefore, do not be afraid to explore and present multiple distinct solutions.\n",
    "\n",
    "In the discussion of you results focus mainly on answering the following questions:\n",
    "\n",
    "- How many distinct groups of compounds do you think there are in the data set and why?\n",
    "- Was the clustering method you chose able to group similar compounds together?\n",
    "- What do you think are the main advantages and disadvantages of the clustering method you chose?\n",
    "- If you look up the molecules assigned to each cluster online (i.e. in ChEMBL or PubChem), what do you find? Do they have something else in common besides structural similarity?"
   ],
   "metadata": {
    "collapsed": false
   }
  }
 ],
 "metadata": {
  "kernelspec": {
   "display_name": "Python 3",
   "language": "python",
   "name": "python3"
  },
  "language_info": {
   "codemirror_mode": {
    "name": "ipython",
    "version": 2
   },
   "file_extension": ".py",
   "mimetype": "text/x-python",
   "name": "python",
   "nbconvert_exporter": "python",
   "pygments_lexer": "ipython2",
   "version": "2.7.6"
  }
 },
 "nbformat": 4,
 "nbformat_minor": 0
}
