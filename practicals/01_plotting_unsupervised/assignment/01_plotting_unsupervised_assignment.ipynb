{
 "cells": [
  {
   "cell_type": "code",
   "execution_count": null,
   "metadata": {},
   "outputs": [],
   "source": [
    "!./init.sh"
   ]
  },
  {
   "cell_type": "markdown",
   "metadata": {},
   "source": [
    "# Assignments\n",
    "\n",
    "The following assignments will test your knowledge in unsupervised learning. Note that this data is already nontrivial and some tasks can prove difficult. However, the point of the assignment is to practice and experiment with the techniques you learned. Therefore, do not get discouraged if you do not get the results you expect with one single method. Instead, try a few different approaches and see if you can spot any common patterns in the results.\n",
    "\n",
    "## Tools\n",
    "\n",
    "Tools and concepts that might have not been discussed previously, but could be useful for these assignments:\n",
    "\n",
    "- [Molecular Descriptors and Fingerprints](./01_examples_descriptors.ipynb)\n",
    "- [Depicting Molecules in Jupyter Notebooks](./01_examples_depictions.ipynb)\n",
    "- [Feature Scaling](https://scikit-learn.org/stable/modules/preprocessing.html)\n",
    "- [Feature Selection](https://scikit-learn.org/stable/modules/feature_selection.html)\n",
    "- [Getting Clusters out of Hierarchical Clustering](https://stackoverflow.com/questions/44428512/get-a-list-of-clusters-formed-from-dendrogram-in-python)\n",
    "- [pChEMBL Values](https://chembl.gitbook.io/chembl-interface-documentation/frequently-asked-questions/chembl-data-questions#what-is-pchembl)\n",
    "\n",
    "Feel free to also use resources online and scientific literature. Also pay attention to the various columns in the data sets. Some of them might be useful for your analysis and point you to the relevant literature. Making yourself familiar with the data itself can then help you better understand the results of your analysis."
   ]
  },
  {
   "cell_type": "markdown",
   "source": [
    "# 1. Visualizing Chemical Space\n",
    "\n",
    "In this assignment, you will use your previous knowledge about molecular descriptors and unsupervised learning to show maps of chemical space. The data set you will be working with is saved in the `molecules.csv` file. It provides only the structures of molecules as SMILES strings. These molecules can be clustered in multiple ways. Select the best set of descriptors and a clustering method that in your opinion captures the relationships between the molecules in the data set in the most meaningful way. Note that this assignment does not have a single correct answer. Therefore, do not be afraid to explore and present multiple distinct solutions.\n",
    "\n",
    "In the discussion of your results, focus mainly on answering the following questions and include code and data to support your answers:\n",
    "\n",
    "- How many distinct groups of compounds do you think there are in the data set and why?\n",
    "- Was the dimensionality reduction method you chose able to group structurally similar compounds together? Look at the structures in a few clearly seperated clusters and discuss your findings. Can you find any potential outliers?\n",
    "- What do you think are the main advantages and disadvantages of the dimensionality reduction method you chose?\n",
    "- Do you obtain similar results with multiple dimensionality reduction methods? Try to compare at least two.\n",
    "- Using PCA, is there a difference in between using fingerprints and descriptors as features? Do you obtain different results if you use some form of feature selection before PCA? How does scaling the features affect the result?"
   ],
   "metadata": {
    "collapsed": false
   }
  },
  {
   "cell_type": "code",
   "execution_count": null,
   "outputs": [],
   "source": [],
   "metadata": {
    "collapsed": false
   }
  },
  {
   "cell_type": "markdown",
   "metadata": {},
   "source": [
    "# 2. Clustering Active and Inactive Molecules\n",
    "\n",
    "The `Q99685_papyrus.tsv` file contains bioactivity data for 700 compounds from the [Papyrus](https://jcheminf.biomedcentral.com/articles/10.1186/s13321-022-00672-x) data set. The molecules were measured for inhibition of monoglyceride lipase (MGLL, [Q99685](https://www.uniprot.org/uniprotkb/Q99685/entry)). Use your knowledge of clustering methods to cluster the molecules in the data set.\n",
    "\n",
    "Try to find answers to the following questions and support your answers with data and code:\n",
    "\n",
    "- Can you find clusters associated with higher ratio of more active molecules? Discuss a few examples.\n",
    "- If you use a dimensionality reduction method to plot the chemical space, do you obtain similar results as with the clustering method? Do you see compounds belonging to one cluster close to one another in the chemical space depiction as well? If not, why do you think that is?"
   ]
  },
  {
   "cell_type": "code",
   "execution_count": null,
   "metadata": {
    "collapsed": false,
    "jupyter": {
     "outputs_hidden": false
    }
   },
   "outputs": [],
   "source": []
  }
 ],
 "metadata": {
  "kernelspec": {
   "display_name": "Python 3 (ipykernel)",
   "language": "python",
   "name": "python3"
  },
  "language_info": {
   "codemirror_mode": {
    "name": "ipython",
    "version": 3
   },
   "file_extension": ".py",
   "mimetype": "text/x-python",
   "name": "python",
   "nbconvert_exporter": "python",
   "pygments_lexer": "ipython3",
   "version": "3.9.12"
  }
 },
 "nbformat": 4,
 "nbformat_minor": 4
}
