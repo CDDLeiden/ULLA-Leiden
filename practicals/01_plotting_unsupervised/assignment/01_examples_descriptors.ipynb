{
 "cells": [
  {
   "cell_type": "code",
   "execution_count": null,
   "outputs": [],
   "source": [
    "!bash ./init.sh"
   ],
   "metadata": {
    "collapsed": false,
    "pycharm": {
     "is_executing": true
    }
   }
  },
  {
   "cell_type": "code",
   "execution_count": 2,
   "metadata": {
    "collapsed": true
   },
   "outputs": [
    {
     "data": {
      "text/plain": "      exactmw      amw  lipinskiHBA  lipinskiHBD  NumRotatableBonds  NumHBD  \\\n0   46.041865   46.069          1.0          1.0                0.0     1.0   \n1  149.120449  149.237          1.0          1.0                3.0     1.0   \n2  303.147058  303.358          5.0          0.0                3.0     0.0   \n3  369.157623  369.417          6.0          0.0                2.0     0.0   \n4  336.220164  336.479          3.0          0.0                6.0     0.0   \n5  323.199762  323.440          4.0          1.0                3.0     1.0   \n\n   NumHBA  NumHeavyAtoms  NumAtoms  NumHeteroatoms  ...      chi0n     chi1n  \\\n0     1.0            3.0       9.0             1.0  ...   2.154320  1.023335   \n1     1.0           11.0      26.0             1.0  ...   7.171208  4.038511   \n2     5.0           22.0      43.0             5.0  ...  12.897680  7.673077   \n3     6.0           27.0      50.0             6.0  ...  15.728578  9.487845   \n4     2.0           25.0      53.0             3.0  ...  15.103276  9.410297   \n5     2.0           24.0      49.0             4.0  ...  14.672554  8.936816   \n\n      chi2n     chi3n     chi4n  hallKierAlpha     kappa1    kappa2    kappa3  \\\n0  0.000000  0.000000  0.000000          -0.04   2.960000  1.960000  1.960000   \n1  1.877512  1.877512  1.069709          -0.82   8.278232  4.140518  2.724337   \n2  4.955461  4.955461  3.766875          -1.88  15.032579  6.084897  2.608720   \n3  6.670833  6.670833  5.737369          -2.34  16.806225  5.580140  2.161613   \n4  5.087289  5.087289  3.650415          -2.13  17.685289  8.816461  4.698265   \n5  5.660535  5.660535  4.375139          -2.07  15.457261  5.778540  2.203566   \n\n        Phi  \n0  1.933867  \n1  3.116016  \n2  4.157804  \n3  3.473374  \n4  6.236866  \n5  3.721683  \n\n[6 rows x 43 columns]",
      "text/html": "<div>\n<style scoped>\n    .dataframe tbody tr th:only-of-type {\n        vertical-align: middle;\n    }\n\n    .dataframe tbody tr th {\n        vertical-align: top;\n    }\n\n    .dataframe thead th {\n        text-align: right;\n    }\n</style>\n<table border=\"1\" class=\"dataframe\">\n  <thead>\n    <tr style=\"text-align: right;\">\n      <th></th>\n      <th>exactmw</th>\n      <th>amw</th>\n      <th>lipinskiHBA</th>\n      <th>lipinskiHBD</th>\n      <th>NumRotatableBonds</th>\n      <th>NumHBD</th>\n      <th>NumHBA</th>\n      <th>NumHeavyAtoms</th>\n      <th>NumAtoms</th>\n      <th>NumHeteroatoms</th>\n      <th>...</th>\n      <th>chi0n</th>\n      <th>chi1n</th>\n      <th>chi2n</th>\n      <th>chi3n</th>\n      <th>chi4n</th>\n      <th>hallKierAlpha</th>\n      <th>kappa1</th>\n      <th>kappa2</th>\n      <th>kappa3</th>\n      <th>Phi</th>\n    </tr>\n  </thead>\n  <tbody>\n    <tr>\n      <th>0</th>\n      <td>46.041865</td>\n      <td>46.069</td>\n      <td>1.0</td>\n      <td>1.0</td>\n      <td>0.0</td>\n      <td>1.0</td>\n      <td>1.0</td>\n      <td>3.0</td>\n      <td>9.0</td>\n      <td>1.0</td>\n      <td>...</td>\n      <td>2.154320</td>\n      <td>1.023335</td>\n      <td>0.000000</td>\n      <td>0.000000</td>\n      <td>0.000000</td>\n      <td>-0.04</td>\n      <td>2.960000</td>\n      <td>1.960000</td>\n      <td>1.960000</td>\n      <td>1.933867</td>\n    </tr>\n    <tr>\n      <th>1</th>\n      <td>149.120449</td>\n      <td>149.237</td>\n      <td>1.0</td>\n      <td>1.0</td>\n      <td>3.0</td>\n      <td>1.0</td>\n      <td>1.0</td>\n      <td>11.0</td>\n      <td>26.0</td>\n      <td>1.0</td>\n      <td>...</td>\n      <td>7.171208</td>\n      <td>4.038511</td>\n      <td>1.877512</td>\n      <td>1.877512</td>\n      <td>1.069709</td>\n      <td>-0.82</td>\n      <td>8.278232</td>\n      <td>4.140518</td>\n      <td>2.724337</td>\n      <td>3.116016</td>\n    </tr>\n    <tr>\n      <th>2</th>\n      <td>303.147058</td>\n      <td>303.358</td>\n      <td>5.0</td>\n      <td>0.0</td>\n      <td>3.0</td>\n      <td>0.0</td>\n      <td>5.0</td>\n      <td>22.0</td>\n      <td>43.0</td>\n      <td>5.0</td>\n      <td>...</td>\n      <td>12.897680</td>\n      <td>7.673077</td>\n      <td>4.955461</td>\n      <td>4.955461</td>\n      <td>3.766875</td>\n      <td>-1.88</td>\n      <td>15.032579</td>\n      <td>6.084897</td>\n      <td>2.608720</td>\n      <td>4.157804</td>\n    </tr>\n    <tr>\n      <th>3</th>\n      <td>369.157623</td>\n      <td>369.417</td>\n      <td>6.0</td>\n      <td>0.0</td>\n      <td>2.0</td>\n      <td>0.0</td>\n      <td>6.0</td>\n      <td>27.0</td>\n      <td>50.0</td>\n      <td>6.0</td>\n      <td>...</td>\n      <td>15.728578</td>\n      <td>9.487845</td>\n      <td>6.670833</td>\n      <td>6.670833</td>\n      <td>5.737369</td>\n      <td>-2.34</td>\n      <td>16.806225</td>\n      <td>5.580140</td>\n      <td>2.161613</td>\n      <td>3.473374</td>\n    </tr>\n    <tr>\n      <th>4</th>\n      <td>336.220164</td>\n      <td>336.479</td>\n      <td>3.0</td>\n      <td>0.0</td>\n      <td>6.0</td>\n      <td>0.0</td>\n      <td>2.0</td>\n      <td>25.0</td>\n      <td>53.0</td>\n      <td>3.0</td>\n      <td>...</td>\n      <td>15.103276</td>\n      <td>9.410297</td>\n      <td>5.087289</td>\n      <td>5.087289</td>\n      <td>3.650415</td>\n      <td>-2.13</td>\n      <td>17.685289</td>\n      <td>8.816461</td>\n      <td>4.698265</td>\n      <td>6.236866</td>\n    </tr>\n    <tr>\n      <th>5</th>\n      <td>323.199762</td>\n      <td>323.440</td>\n      <td>4.0</td>\n      <td>1.0</td>\n      <td>3.0</td>\n      <td>1.0</td>\n      <td>2.0</td>\n      <td>24.0</td>\n      <td>49.0</td>\n      <td>4.0</td>\n      <td>...</td>\n      <td>14.672554</td>\n      <td>8.936816</td>\n      <td>5.660535</td>\n      <td>5.660535</td>\n      <td>4.375139</td>\n      <td>-2.07</td>\n      <td>15.457261</td>\n      <td>5.778540</td>\n      <td>2.203566</td>\n      <td>3.721683</td>\n    </tr>\n  </tbody>\n</table>\n<p>6 rows × 43 columns</p>\n</div>"
     },
     "execution_count": 2,
     "metadata": {},
     "output_type": "execute_result"
    }
   ],
   "source": [
    "import numpy as np\n",
    "import pandas as pd\n",
    "from rdkit import Chem\n",
    "from rdkit.Chem import rdMolDescriptors\n",
    "\n",
    "def smiles_to_descriptors(smiles, names=rdMolDescriptors.Properties.GetAvailableProperties()):\n",
    "    X = []\n",
    "    names = list(names)\n",
    "    get_descriptors = rdMolDescriptors.Properties(names)\n",
    "    for smile in smiles:\n",
    "        mol = Chem.MolFromSmiles(smile)\n",
    "        descriptors = []\n",
    "        if mol:\n",
    "            descriptors = np.array(get_descriptors.ComputeProperties(mol))\n",
    "        X.append(descriptors)\n",
    "\n",
    "    return pd.DataFrame(X, columns=names)\n",
    "\n",
    "smiles_to_descriptors([\n",
    "    'CCO',\n",
    "    'CNC(C)Cc1ccccc1',\n",
    "    'CN1[C@H]2CC[C@@H]1[C@@H](C(OC)=O)[C@@H](OC(C3=CC=CC=C3)=O)C2',\n",
    "    'CC(OC1=C(O[C@@H]2[C@]34CCN(C)[C@@H]([C@@H]4C=C[C@@H]2OC(C)=O)C5)C3=C5C=C1)=O',\n",
    "    'O=C(CC)N(C1CCN(CC1)CCc2ccccc2)c3ccccc3',\n",
    "    'CCN(CC)C(=O)[C@H]1CN([C@@H]2Cc3c[nH]c4c3c(ccc4)C2=C1)C'\n",
    "])"
   ]
  },
  {
   "cell_type": "code",
   "execution_count": 3,
   "outputs": [
    {
     "data": {
      "text/plain": "   fp_0  fp_1  fp_2  fp_3  fp_4  fp_5  fp_6  fp_7  fp_8  fp_9  ...  fp_2038  \\\n0   0.0   0.0   0.0   0.0   0.0   0.0   0.0   0.0   0.0   0.0  ...      0.0   \n1   0.0   1.0   0.0   0.0   0.0   0.0   0.0   0.0   0.0   0.0  ...      0.0   \n2   0.0   1.0   0.0   0.0   0.0   0.0   0.0   0.0   0.0   0.0  ...      0.0   \n3   0.0   0.0   0.0   0.0   0.0   0.0   0.0   0.0   0.0   0.0  ...      0.0   \n4   0.0   0.0   0.0   0.0   0.0   0.0   0.0   0.0   0.0   0.0  ...      0.0   \n5   0.0   0.0   0.0   0.0   0.0   0.0   0.0   0.0   0.0   0.0  ...      0.0   \n\n   fp_2039  fp_2040  fp_2041  fp_2042  fp_2043  fp_2044  fp_2045  fp_2046  \\\n0      0.0      0.0      0.0      0.0      0.0      0.0      0.0      0.0   \n1      0.0      0.0      0.0      0.0      0.0      0.0      0.0      0.0   \n2      0.0      0.0      0.0      0.0      0.0      0.0      0.0      0.0   \n3      0.0      0.0      0.0      0.0      0.0      0.0      0.0      0.0   \n4      0.0      0.0      0.0      0.0      1.0      0.0      0.0      0.0   \n5      0.0      0.0      0.0      0.0      0.0      0.0      0.0      0.0   \n\n   fp_2047  \n0      0.0  \n1      0.0  \n2      0.0  \n3      0.0  \n4      0.0  \n5      0.0  \n\n[6 rows x 2048 columns]",
      "text/html": "<div>\n<style scoped>\n    .dataframe tbody tr th:only-of-type {\n        vertical-align: middle;\n    }\n\n    .dataframe tbody tr th {\n        vertical-align: top;\n    }\n\n    .dataframe thead th {\n        text-align: right;\n    }\n</style>\n<table border=\"1\" class=\"dataframe\">\n  <thead>\n    <tr style=\"text-align: right;\">\n      <th></th>\n      <th>fp_0</th>\n      <th>fp_1</th>\n      <th>fp_2</th>\n      <th>fp_3</th>\n      <th>fp_4</th>\n      <th>fp_5</th>\n      <th>fp_6</th>\n      <th>fp_7</th>\n      <th>fp_8</th>\n      <th>fp_9</th>\n      <th>...</th>\n      <th>fp_2038</th>\n      <th>fp_2039</th>\n      <th>fp_2040</th>\n      <th>fp_2041</th>\n      <th>fp_2042</th>\n      <th>fp_2043</th>\n      <th>fp_2044</th>\n      <th>fp_2045</th>\n      <th>fp_2046</th>\n      <th>fp_2047</th>\n    </tr>\n  </thead>\n  <tbody>\n    <tr>\n      <th>0</th>\n      <td>0.0</td>\n      <td>0.0</td>\n      <td>0.0</td>\n      <td>0.0</td>\n      <td>0.0</td>\n      <td>0.0</td>\n      <td>0.0</td>\n      <td>0.0</td>\n      <td>0.0</td>\n      <td>0.0</td>\n      <td>...</td>\n      <td>0.0</td>\n      <td>0.0</td>\n      <td>0.0</td>\n      <td>0.0</td>\n      <td>0.0</td>\n      <td>0.0</td>\n      <td>0.0</td>\n      <td>0.0</td>\n      <td>0.0</td>\n      <td>0.0</td>\n    </tr>\n    <tr>\n      <th>1</th>\n      <td>0.0</td>\n      <td>1.0</td>\n      <td>0.0</td>\n      <td>0.0</td>\n      <td>0.0</td>\n      <td>0.0</td>\n      <td>0.0</td>\n      <td>0.0</td>\n      <td>0.0</td>\n      <td>0.0</td>\n      <td>...</td>\n      <td>0.0</td>\n      <td>0.0</td>\n      <td>0.0</td>\n      <td>0.0</td>\n      <td>0.0</td>\n      <td>0.0</td>\n      <td>0.0</td>\n      <td>0.0</td>\n      <td>0.0</td>\n      <td>0.0</td>\n    </tr>\n    <tr>\n      <th>2</th>\n      <td>0.0</td>\n      <td>1.0</td>\n      <td>0.0</td>\n      <td>0.0</td>\n      <td>0.0</td>\n      <td>0.0</td>\n      <td>0.0</td>\n      <td>0.0</td>\n      <td>0.0</td>\n      <td>0.0</td>\n      <td>...</td>\n      <td>0.0</td>\n      <td>0.0</td>\n      <td>0.0</td>\n      <td>0.0</td>\n      <td>0.0</td>\n      <td>0.0</td>\n      <td>0.0</td>\n      <td>0.0</td>\n      <td>0.0</td>\n      <td>0.0</td>\n    </tr>\n    <tr>\n      <th>3</th>\n      <td>0.0</td>\n      <td>0.0</td>\n      <td>0.0</td>\n      <td>0.0</td>\n      <td>0.0</td>\n      <td>0.0</td>\n      <td>0.0</td>\n      <td>0.0</td>\n      <td>0.0</td>\n      <td>0.0</td>\n      <td>...</td>\n      <td>0.0</td>\n      <td>0.0</td>\n      <td>0.0</td>\n      <td>0.0</td>\n      <td>0.0</td>\n      <td>0.0</td>\n      <td>0.0</td>\n      <td>0.0</td>\n      <td>0.0</td>\n      <td>0.0</td>\n    </tr>\n    <tr>\n      <th>4</th>\n      <td>0.0</td>\n      <td>0.0</td>\n      <td>0.0</td>\n      <td>0.0</td>\n      <td>0.0</td>\n      <td>0.0</td>\n      <td>0.0</td>\n      <td>0.0</td>\n      <td>0.0</td>\n      <td>0.0</td>\n      <td>...</td>\n      <td>0.0</td>\n      <td>0.0</td>\n      <td>0.0</td>\n      <td>0.0</td>\n      <td>0.0</td>\n      <td>1.0</td>\n      <td>0.0</td>\n      <td>0.0</td>\n      <td>0.0</td>\n      <td>0.0</td>\n    </tr>\n    <tr>\n      <th>5</th>\n      <td>0.0</td>\n      <td>0.0</td>\n      <td>0.0</td>\n      <td>0.0</td>\n      <td>0.0</td>\n      <td>0.0</td>\n      <td>0.0</td>\n      <td>0.0</td>\n      <td>0.0</td>\n      <td>0.0</td>\n      <td>...</td>\n      <td>0.0</td>\n      <td>0.0</td>\n      <td>0.0</td>\n      <td>0.0</td>\n      <td>0.0</td>\n      <td>0.0</td>\n      <td>0.0</td>\n      <td>0.0</td>\n      <td>0.0</td>\n      <td>0.0</td>\n    </tr>\n  </tbody>\n</table>\n<p>6 rows × 2048 columns</p>\n</div>"
     },
     "execution_count": 3,
     "metadata": {},
     "output_type": "execute_result"
    }
   ],
   "source": [
    "from rdkit.Chem import AllChem\n",
    "from rdkit.Chem import DataStructs\n",
    "\n",
    "def smiles_to_fingerprints(smiles, n_bits=2048, radius=3):\n",
    "    X = np.zeros((len(smiles), n_bits))\n",
    "    for idx, smile in enumerate(smiles):\n",
    "        mol = Chem.MolFromSmiles(smile)\n",
    "        fp = AllChem.GetMorganFingerprintAsBitVect(mol, radius, nBits=n_bits)\n",
    "        np_fp = np.zeros(len(fp))\n",
    "        DataStructs.ConvertToNumpyArray(fp, np_fp)\n",
    "        X[idx] = np_fp\n",
    "\n",
    "    return pd.DataFrame(X, columns=[f'fp_{i}' for i in range(n_bits)])\n",
    "\n",
    "smiles_to_fingerprints([\n",
    "    'CCO',\n",
    "    'CNC(C)Cc1ccccc1',\n",
    "    'CN1[C@H]2CC[C@@H]1[C@@H](C(OC)=O)[C@@H](OC(C3=CC=CC=C3)=O)C2',\n",
    "    'CC(OC1=C(O[C@@H]2[C@]34CCN(C)[C@@H]([C@@H]4C=C[C@@H]2OC(C)=O)C5)C3=C5C=C1)=O',\n",
    "    'O=C(CC)N(C1CCN(CC1)CCc2ccccc2)c3ccccc3',\n",
    "    'CCN(CC)C(=O)[C@H]1CN([C@@H]2Cc3c[nH]c4c3c(ccc4)C2=C1)C'\n",
    "])"
   ],
   "metadata": {
    "collapsed": false
   }
  },
  {
   "cell_type": "code",
   "execution_count": 3,
   "outputs": [],
   "source": [],
   "metadata": {
    "collapsed": false
   }
  }
 ],
 "metadata": {
  "kernelspec": {
   "display_name": "Python 3",
   "language": "python",
   "name": "python3"
  },
  "language_info": {
   "codemirror_mode": {
    "name": "ipython",
    "version": 2
   },
   "file_extension": ".py",
   "mimetype": "text/x-python",
   "name": "python",
   "nbconvert_exporter": "python",
   "pygments_lexer": "ipython2",
   "version": "2.7.6"
  }
 },
 "nbformat": 4,
 "nbformat_minor": 0
}
