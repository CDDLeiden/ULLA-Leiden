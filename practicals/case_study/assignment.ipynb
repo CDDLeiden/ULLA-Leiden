{
 "cells": [
  {
   "cell_type": "markdown",
   "id": "3a0c4d33-3c0a-4f6f-a5aa-3d0da39cdf58",
   "metadata": {},
   "source": [
    "# QSAR Modelling Challenge\n",
    "\n",
    "In this case study, you will compete with the other participants to build the best QSAR model for the human histamine H3 receptor (H3R, [Q9Y5N1](https://www.uniprot.org/uniprotkb/Q9Y5N1/entry)). The goal of the case study is to build a sufficiently predictive classifier of potent H3R antagonists. In the case study, we consider all compounds with at least the same $K_i$ or lower than histamine as potent enough to be considered active by our model (see for example [Wágner et al.](https://pubs.acs.org/doi/10.1021/acs.jmedchem.9b01462) for a reference $K_i$ value).\n",
    "\n",
    "## Rules of the Game\n",
    "\n",
    "- Use only publicly available data.\n",
    "- **Do not consider data from 2018 onwards (including 2018 itself) in any way**. If a compound was tested both before and after 2018, you can use the data from before 2018 only.\n",
    "\n",
    "## Submission Requirements\n",
    "\n",
    "You can submit all your code and used data as a zip file (sent to our email address) or through the notable environment (assigment name: `QSAR Modelling Challenge - Leiden Case Study`). The submission should contain a single notebook and all data that can be used to reproduce your model completely (ideally with fixed random seeds to ensure maximum reproducibility). At the end of the notebook, you will provide a function with the following signature:\n",
    "\n",
    "```python\n",
    "\n",
    "def predict(smiles):\n",
    "    \"\"\"\n",
    "    Classifies a list of smiles strings as active or inactive.\n",
    "\n",
    "    Parameters\n",
    "    ----------\n",
    "    smiles : list of str\n",
    "        List of SMILES strings to be classified by the final model.\n",
    "\n",
    "    Returns\n",
    "    -------\n",
    "    predictions : list of bool\n",
    "        List of predictions (True or False) for each smiles string. True for active and False for inactive.\n",
    "    \"\"\"\n",
    "\n",
    "    # your code here\n",
    "\n",
    "    return prediction\n",
    "```\n",
    "\n",
    "We will run this function on our hidden external evaluation set and the model with the best MCC (Matthew's correlation coefficient) performance will be declared the winner. You should be able to beat at least our reference model (Naive Bayes Classifier from `sklearn` with default parameters) that reached the following performance on our external set:\n",
    "\n",
    "```\n",
    "f1_score 0.2907801418439716\n",
    "matthews_corrcoef -0.010012722232454589\n",
    "recall_score 0.47674418604651164\n",
    "precision_score 0.20918367346938777\n",
    "roc_auc_score 0.49389259775511696\n",
    "accuracy_score 0.5037220843672456\n",
    "```\n",
    "\n",
    "You can use the `sklearn.metrics` package to calculate the above metrics for comparison. As you can see the MCC is negative, which means that the model is worse than random guessing. You should be able to beat this performance.\n",
    "\n",
    "\n",
    "## Tips\n",
    "\n",
    "- Data can be obtained more easily from databases such as [ChEMBL](https://www.ebi.ac.uk/chembl/) or [Papyrus](https://github.com/OlivierBeq/Papyrus-scripts). To help you in the beginning, we already assembled a sample of 1,000 compounds in the [Q9Y5N1_train_sample.csv](Q9Y5N1_train_sample.csv) file in the current directory. However, you should try to further expand this data set or compile your own with the help of the databases above. For example, You can get more data points from the ChEMBL database by using the [target report card for H3R](https://www.ebi.ac.uk/chembl/target_report_card/CHEMBL264/) to filter and download most of the publicly available data for this target as a CSV or TSV file that can be read by `pandas`. Note that the download feature can be sluggish and appear stuck, but you should be able to get your file in the end (after no more than several minutes).\n",
    "- Filter your data and try to remove any outliers and not drug-like molecules that could confuse your model. Unsupervised learning methods could help you in this task as well.\n",
    "- The quality of chosen descriptors/features has the most influence on model performance so invest time in feature filtering, data preprocessing (i.e. molecule standardization) and calculation of a wider variety of chemical and protein descriptors to choose from.\n",
    "- Try to build several models with different algorithms and vary their parameters. It can give you the final performance boost you need. It will also be interesting data to show on your poster.\n",
    "- We are always available for questions on the forum so feel free to ask us anything."
   ]
  },
  {
   "cell_type": "code",
   "execution_count": null,
   "id": "30cfb184-9db3-4567-928e-92c8d83a7a24",
   "metadata": {},
   "outputs": [],
   "source": []
  }
 ],
 "metadata": {
  "kernelspec": {
   "display_name": "Python 3 (ipykernel)",
   "language": "python",
   "name": "python3"
  },
  "language_info": {
   "codemirror_mode": {
    "name": "ipython",
    "version": 3
   },
   "file_extension": ".py",
   "mimetype": "text/x-python",
   "name": "python",
   "nbconvert_exporter": "python",
   "pygments_lexer": "ipython3",
   "version": "3.10.9"
  }
 },
 "nbformat": 4,
 "nbformat_minor": 5
}
