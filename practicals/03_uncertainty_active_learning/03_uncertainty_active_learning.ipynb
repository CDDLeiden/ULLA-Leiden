{
 "cells": [
  {
   "cell_type": "code",
   "execution_count": 1,
   "metadata": {},
   "outputs": [
    {
     "name": "stdout",
     "output_type": "stream",
     "text": [
      "Requirement already satisfied: rdkit in /home/sohvi/.conda/envs/ulla/lib/python3.9/site-packages (from -r requirements.txt (line 1)) (2022.9.5)\n",
      "Collecting scikit-learn\n",
      "  Using cached scikit_learn-1.2.2-cp39-cp39-manylinux_2_17_x86_64.manylinux2014_x86_64.whl (9.6 MB)\n",
      "Requirement already satisfied: torch in /home/sohvi/.conda/envs/ulla/lib/python3.9/site-packages (from -r requirements.txt (line 3)) (2.0.0)\n",
      "Requirement already satisfied: seaborn in /home/sohvi/.conda/envs/ulla/lib/python3.9/site-packages (from -r requirements.txt (line 4)) (0.12.2)\n",
      "Requirement already satisfied: numpy in /home/sohvi/.conda/envs/ulla/lib/python3.9/site-packages (from rdkit->-r requirements.txt (line 1)) (1.24.2)\n",
      "Requirement already satisfied: Pillow in /home/sohvi/.conda/envs/ulla/lib/python3.9/site-packages (from rdkit->-r requirements.txt (line 1)) (9.4.0)\n",
      "Collecting scipy>=1.3.2\n",
      "  Using cached scipy-1.10.1-cp39-cp39-manylinux_2_17_x86_64.manylinux2014_x86_64.whl (34.5 MB)\n",
      "Collecting threadpoolctl>=2.0.0\n",
      "  Using cached threadpoolctl-3.1.0-py3-none-any.whl (14 kB)\n",
      "Collecting joblib>=1.1.1\n",
      "  Using cached joblib-1.2.0-py3-none-any.whl (297 kB)\n",
      "Requirement already satisfied: nvidia-cuda-nvrtc-cu11==11.7.99 in /home/sohvi/.conda/envs/ulla/lib/python3.9/site-packages (from torch->-r requirements.txt (line 3)) (11.7.99)\n",
      "Requirement already satisfied: triton==2.0.0 in /home/sohvi/.conda/envs/ulla/lib/python3.9/site-packages (from torch->-r requirements.txt (line 3)) (2.0.0)\n",
      "Requirement already satisfied: nvidia-cusparse-cu11==11.7.4.91 in /home/sohvi/.conda/envs/ulla/lib/python3.9/site-packages (from torch->-r requirements.txt (line 3)) (11.7.4.91)\n",
      "Requirement already satisfied: typing-extensions in /home/sohvi/.conda/envs/ulla/lib/python3.9/site-packages (from torch->-r requirements.txt (line 3)) (4.5.0)\n",
      "Requirement already satisfied: nvidia-cuda-cupti-cu11==11.7.101 in /home/sohvi/.conda/envs/ulla/lib/python3.9/site-packages (from torch->-r requirements.txt (line 3)) (11.7.101)\n",
      "Requirement already satisfied: filelock in /home/sohvi/.conda/envs/ulla/lib/python3.9/site-packages (from torch->-r requirements.txt (line 3)) (3.10.2)\n",
      "Requirement already satisfied: nvidia-nccl-cu11==2.14.3 in /home/sohvi/.conda/envs/ulla/lib/python3.9/site-packages (from torch->-r requirements.txt (line 3)) (2.14.3)\n",
      "Requirement already satisfied: nvidia-curand-cu11==10.2.10.91 in /home/sohvi/.conda/envs/ulla/lib/python3.9/site-packages (from torch->-r requirements.txt (line 3)) (10.2.10.91)\n",
      "Requirement already satisfied: nvidia-nvtx-cu11==11.7.91 in /home/sohvi/.conda/envs/ulla/lib/python3.9/site-packages (from torch->-r requirements.txt (line 3)) (11.7.91)\n",
      "Requirement already satisfied: nvidia-cudnn-cu11==8.5.0.96 in /home/sohvi/.conda/envs/ulla/lib/python3.9/site-packages (from torch->-r requirements.txt (line 3)) (8.5.0.96)\n",
      "Requirement already satisfied: networkx in /home/sohvi/.conda/envs/ulla/lib/python3.9/site-packages (from torch->-r requirements.txt (line 3)) (3.0)\n",
      "Requirement already satisfied: nvidia-cufft-cu11==10.9.0.58 in /home/sohvi/.conda/envs/ulla/lib/python3.9/site-packages (from torch->-r requirements.txt (line 3)) (10.9.0.58)\n",
      "Requirement already satisfied: nvidia-cusolver-cu11==11.4.0.1 in /home/sohvi/.conda/envs/ulla/lib/python3.9/site-packages (from torch->-r requirements.txt (line 3)) (11.4.0.1)\n",
      "Requirement already satisfied: jinja2 in /home/sohvi/.conda/envs/ulla/lib/python3.9/site-packages (from torch->-r requirements.txt (line 3)) (3.1.2)\n",
      "Requirement already satisfied: sympy in /home/sohvi/.conda/envs/ulla/lib/python3.9/site-packages (from torch->-r requirements.txt (line 3)) (1.11.1)\n",
      "Requirement already satisfied: nvidia-cublas-cu11==11.10.3.66 in /home/sohvi/.conda/envs/ulla/lib/python3.9/site-packages (from torch->-r requirements.txt (line 3)) (11.10.3.66)\n",
      "Requirement already satisfied: nvidia-cuda-runtime-cu11==11.7.99 in /home/sohvi/.conda/envs/ulla/lib/python3.9/site-packages (from torch->-r requirements.txt (line 3)) (11.7.99)\n",
      "Requirement already satisfied: wheel in /home/sohvi/.conda/envs/ulla/lib/python3.9/site-packages (from nvidia-cublas-cu11==11.10.3.66->torch->-r requirements.txt (line 3)) (0.38.4)\n",
      "Requirement already satisfied: setuptools in /home/sohvi/.conda/envs/ulla/lib/python3.9/site-packages (from nvidia-cublas-cu11==11.10.3.66->torch->-r requirements.txt (line 3)) (65.6.3)\n",
      "Requirement already satisfied: lit in /home/sohvi/.conda/envs/ulla/lib/python3.9/site-packages (from triton==2.0.0->torch->-r requirements.txt (line 3)) (16.0.0)\n",
      "Requirement already satisfied: cmake in /home/sohvi/.conda/envs/ulla/lib/python3.9/site-packages (from triton==2.0.0->torch->-r requirements.txt (line 3)) (3.26.0)\n",
      "Requirement already satisfied: pandas>=0.25 in /home/sohvi/.conda/envs/ulla/lib/python3.9/site-packages (from seaborn->-r requirements.txt (line 4)) (1.5.3)\n",
      "Requirement already satisfied: matplotlib!=3.6.1,>=3.1 in /home/sohvi/.conda/envs/ulla/lib/python3.9/site-packages (from seaborn->-r requirements.txt (line 4)) (3.7.1)\n",
      "Requirement already satisfied: cycler>=0.10 in /home/sohvi/.conda/envs/ulla/lib/python3.9/site-packages (from matplotlib!=3.6.1,>=3.1->seaborn->-r requirements.txt (line 4)) (0.11.0)\n",
      "Requirement already satisfied: contourpy>=1.0.1 in /home/sohvi/.conda/envs/ulla/lib/python3.9/site-packages (from matplotlib!=3.6.1,>=3.1->seaborn->-r requirements.txt (line 4)) (1.0.7)\n",
      "Requirement already satisfied: python-dateutil>=2.7 in /home/sohvi/.conda/envs/ulla/lib/python3.9/site-packages (from matplotlib!=3.6.1,>=3.1->seaborn->-r requirements.txt (line 4)) (2.8.2)\n",
      "Requirement already satisfied: pyparsing>=2.3.1 in /home/sohvi/.conda/envs/ulla/lib/python3.9/site-packages (from matplotlib!=3.6.1,>=3.1->seaborn->-r requirements.txt (line 4)) (3.0.9)\n",
      "Requirement already satisfied: fonttools>=4.22.0 in /home/sohvi/.conda/envs/ulla/lib/python3.9/site-packages (from matplotlib!=3.6.1,>=3.1->seaborn->-r requirements.txt (line 4)) (4.39.2)\n",
      "Requirement already satisfied: packaging>=20.0 in /home/sohvi/.conda/envs/ulla/lib/python3.9/site-packages (from matplotlib!=3.6.1,>=3.1->seaborn->-r requirements.txt (line 4)) (23.0)\n",
      "Requirement already satisfied: importlib-resources>=3.2.0 in /home/sohvi/.conda/envs/ulla/lib/python3.9/site-packages (from matplotlib!=3.6.1,>=3.1->seaborn->-r requirements.txt (line 4)) (5.12.0)\n",
      "Requirement already satisfied: kiwisolver>=1.0.1 in /home/sohvi/.conda/envs/ulla/lib/python3.9/site-packages (from matplotlib!=3.6.1,>=3.1->seaborn->-r requirements.txt (line 4)) (1.4.4)\n",
      "Requirement already satisfied: pytz>=2020.1 in /home/sohvi/.conda/envs/ulla/lib/python3.9/site-packages (from pandas>=0.25->seaborn->-r requirements.txt (line 4)) (2022.7.1)\n",
      "Requirement already satisfied: MarkupSafe>=2.0 in /home/sohvi/.conda/envs/ulla/lib/python3.9/site-packages (from jinja2->torch->-r requirements.txt (line 3)) (2.1.2)\n",
      "Requirement already satisfied: mpmath>=0.19 in /home/sohvi/.conda/envs/ulla/lib/python3.9/site-packages (from sympy->torch->-r requirements.txt (line 3)) (1.3.0)\n",
      "Requirement already satisfied: zipp>=3.1.0 in /home/sohvi/.conda/envs/ulla/lib/python3.9/site-packages (from importlib-resources>=3.2.0->matplotlib!=3.6.1,>=3.1->seaborn->-r requirements.txt (line 4)) (3.15.0)\n",
      "Requirement already satisfied: six>=1.5 in /home/sohvi/.conda/envs/ulla/lib/python3.9/site-packages (from python-dateutil>=2.7->matplotlib!=3.6.1,>=3.1->seaborn->-r requirements.txt (line 4)) (1.16.0)\n",
      "Installing collected packages: threadpoolctl, scipy, joblib, scikit-learn\n",
      "Successfully installed joblib-1.2.0 scikit-learn-1.2.2 scipy-1.10.1 threadpoolctl-3.1.0\n"
     ]
    }
   ],
   "source": [
    "!bash ./init.sh "
   ]
  },
  {
   "cell_type": "code",
   "execution_count": 2,
   "metadata": {},
   "outputs": [],
   "source": [
    "# Import libraries needed in the lab\n",
    "%matplotlib inline\n",
    "import warnings\n",
    "import numpy as np\n",
    "import pandas as pd\n",
    "import matplotlib.pyplot as plt\n",
    "\n",
    "from utils import seed_everything\n",
    "seed = 42 # set a random seed for random operatioons to make results reproducible\n",
    "seed_everything(seed)\n",
    "\n",
    "warnings.filterwarnings('ignore')\n",
    "\n",
    "%reload_ext autoreload\n",
    "%autoreload 2"
   ]
  },
  {
   "attachments": {},
   "cell_type": "markdown",
   "metadata": {},
   "source": [
    "# Uncertainty quantification and active learning\n",
    "\n",
    "_by S Luukkonen_\n",
    "\n",
    "In this practical, we will look at two emerging concepts in machine learning: [uncertainty quantification](https://en.wikipedia.org/wiki/Uncertainty_quantification) and [active learning](https://en.wikipedia.org/wiki/Active_learning_(machine_learning)). "
   ]
  },
  {
   "attachments": {},
   "cell_type": "markdown",
   "metadata": {},
   "source": [
    "# Theory"
   ]
  },
  {
   "attachments": {},
   "cell_type": "markdown",
   "metadata": {},
   "source": [
    "## Uncertainty quantification in regression\n",
    "\n",
    "Most ML-based QSAR prediction models are “black boxes” giving single y-predictions (regression) or\n",
    "y-classes (classification) without any indication of the quality of a single prediction. They are difficult to\n",
    "interpret, are susceptible to pathological failures in out-of-domain regimes and lack guarantees of their\n",
    "robustness. The importance of uncertainty estimation when models are used for decision making, has been noted in the _computationally aided drug discovery_ community, but its systematic use is lacking [[Begoli, 2019](https://doi.org/10.1038/s42256-018-0004-1), [Mervin, 2021](https://10.1016/j.drudis.2020.11.027)].\n",
    "\n",
    "In this pratical we will concentrate on uncertainty quantification in regression models, but there is a short theory [section](#uncertainty-quantification-in-classification-models) on uncertainty calibration of classiers.\n",
    "\n",
    "### Aletoric and epistemic uncertainty\n",
    "\n",
    "The uncertainty in a ML model prediction comes from two source:\n",
    "- Aleatoric (also know as stochastic uncertainty) that comes from the noise in the data (_i.e._ the experimental error of bioactivity measures in this cases)\n",
    "- Epistemic (also know as systematic uncertainty) which is the uncertainty of the model often due to lack of training data (you might be trying to use a model out of its domain of applicability) but is also affected by the suitability of model architecture (a too simple or complex model can lead to large uncertainty).\n",
    "\n",
    "![image](images/aletoric_epistemic_uncertainty.PNG)\n",
    "_From [Amini et al., 2019](https://proceedings.neurips.cc/paper/2020/hash/aab085461de182608ee9f607f3f7d18f-Abstract.html)_\n",
    "\n",
    "**TO DO : continue introduction on different approaches for uncertainty quantitification >> define termes mean and variance + note that the commonly used RF method is an ensemble >> automatic epistemic uncertainty prediction**\n"
   ]
  },
  {
   "attachments": {},
   "cell_type": "markdown",
   "metadata": {},
   "source": [
    "### Total uncertainty in regression models\n",
    "\n",
    "In this practical, we used methods that could either quantify the aletoric or epistemic uncertainty. However, there approaches that can model both uncertanties simultaneously such as [Gaussian process regression](https://en.wikipedia.org/wiki/Kriging) and [evidential learning](https://proceedings.neurips.cc/paper/2020/hash/aab085461de182608ee9f607f3f7d18f-Abstract.html), or we can approximate the predictive variance as a combination of aletoric and epistemic uncertanties from the MVE and Baysien neural network (approximated here with the MC dropout)."
   ]
  },
  {
   "attachments": {},
   "cell_type": "markdown",
   "metadata": {},
   "source": [
    "### Evaluation of the uncertainty estimations\n",
    "\n"
   ]
  },
  {
   "attachments": {},
   "cell_type": "markdown",
   "metadata": {},
   "source": [
    "Note that all the methods discussed above are approximate estimates of the uncertainty, and therefore, they are not perfect and their quality should be evaluated.\n",
    "\n",
    "We can visually evalute the quality by\n",
    "- a _**calibration curve**_ which plots the fraction of correctly observed output labels as a function of the expected fraction correctly. _Eg._ we expect 68% of the predictions to be within one standard deviation away (derived from their predicted variance) of their mean prediction. If the true fraction is higher the models is under-confident (_i.e_ predicting too large error bars), and if its below the model is over-confident (_i.e_ predicting too small error bars). Overall, closer to the identity line to curve the better the model is calibrated.\n",
    "- a _**RMSE-drop curve**_ which plot the cumulative root-mean-squered error as the function the confidence (molecules ranked based on the uncertainty estimation). Larger the drop in the curve at higher confidence, the better the calibration.\n",
    "\n",
    "**TO DO add figure of calibration curve and RMSE drop**\n",
    "\n",
    "There are also metrics to evaluate the quality\n",
    "- _**miscalibration area (MCA)**_ - the area between the calibration curve and the identity line. The lower, the better.\n",
    "- _**Spearman's rank correlation coefficient (rho)**_ between the estimated uncertainty and the absolute error. The higher, the better.\n",
    "- _**expected normalized calibration error (ENCE)**_ averages the calibration error for binned predictions (based on predicted variance), normalized by the bin’s mean predicted variance, since for a larger variance, we expect naturally larger errors. The lower, the better."
   ]
  },
  {
   "attachments": {},
   "cell_type": "markdown",
   "metadata": {},
   "source": [
    "## Uncertainty quantification in classification models\n",
    "\n",
    "_As additional information, not part of the practical (can be skipped)_\n",
    "\n",
    "The raw output of classifier is probabalistic and thus inherently includes an estimation of uncertainty. For binary classifiers, the probablistic output is a contineous value between 0 and 1. The closer the value is to 0 or 1, the more confident the model is in its predictions to belong to the negative or postive class, respectively. Whereas closer the value is to 0.5, the less confident the model is in its prediction.\n",
    "\n",
    "However, usually, the probabilistic outputs are rounded to binary values, losing all information of uncertainty. Moreover, using the probabilistic output is not necessarily a well-calibrated probability that can be used as a good estimation of the uncertainty. Thus, the model calibration should be evaluated (and potentially corrected). \n",
    "\n",
    "### Accuracy, discrimination and calibration\n",
    "\n",
    "- [Accuracy](https://en.wikipedia.org/wiki/Sensitivity_and_specificity) measures the ratio of correctly predicted binary predictions \n",
    "- [Discrimination](https://en.wikipedia.org/wiki/Receiver_operating_characteristic) measures the the model's ability to differentiate between postive classes from negative ones\n",
    "- [Calibration](https://scikit-learn.org/stable/modules/calibration.html) measures the agreement between the frequency of observed events with the predicted probabilities\n",
    "\n",
    "Usually, the performance of a binary classifier is measured by its accuracy (overall accuracy, specificity, sensitivity, Matthew’s correlation coefficient, ect.) or its capacity to discriminate (ROC, AUC), but verifying the calibration of the model is often omitted.\n",
    "\n",
    "### Evaluation of calibration\n",
    "\n",
    "The quality of calibration can be visually checked with a calibration curves (also known as reliability diagrams) which plots the true frequency of the positive label (_i.e._ fraction of positives) against its predicted probability, for binned predictions (_i.e._ mean predicted probability in each bin). Closer the the curve is to the identity line, the better calibrated the model is.\n",
    "\n",
    "**TODO : add illustration of calibration curve with well- and poorly calibrated models with Brier score values**\n",
    "\n",
    "The quality of the calibration can also be quantified with calibration error (also called [Brier score](https://en.wikipedia.org/wiki/Brier_score)) which measure the accuracy of prediction against its predicted probability, for binned predictions. \n",
    "\n",
    "\n",
    "### Prediction calibration\n",
    "There as several techiniques to several ways to calibrate prediction by using a s using a validation set to learn a transformation of\n",
    "their output score, _eg._ [Platt scaling](https://home.cs.colorado.edu/~mozer/Teaching/syllabi/6622/papers/Platt1999.pdf) or [isotonic regression](https://dl.acm.org/doi/10.1145/775047.775151).\n",
    "\n"
   ]
  },
  {
   "attachments": {},
   "cell_type": "markdown",
   "metadata": {},
   "source": [
    "## Active learning"
   ]
  },
  {
   "attachments": {},
   "cell_type": "markdown",
   "metadata": {},
   "source": [
    "# Practical"
   ]
  },
  {
   "attachments": {},
   "cell_type": "markdown",
   "metadata": {},
   "source": [
    "## Data pre-processing and visualization\n",
    "\n",
    "As data, we will use molecules from a small dataset of 700 monoglyceride lipase (MGLL, [Q99685](https://www.uniprot.org/uniprotkb/Q99685/entry)) bioactivity measures `Q99685_papyrus.tsv`. This data was retrieved from [Papyrus](https://doi.org/10.1186/s13321-022-00672-x) and the `pChEMBL_values_Mean` values correspond to experimental activity measures coming from a variety of assays run in different laboratories under different assay conditions or even by different methods. This makes the data quite noisy as the standard experimental uncertainty is estimated to be around 0.5 pChEMBL units [[Kramer, 2012](https://doi.org/10.1021/jm300131x)].\n",
    "\n",
    "Thus to make it easier, in this practical, we will create predicition task without noise (i.e. no experimental/aletoric uncertainty) for these molecules. We can use for example the calculate partition coefficent (clogP). It is a simulated logP prediction calculated with an exact formula depeding only the chemical composition of the compound and thus is noiseless. Here we calculate the clogP with `rdkit`."
   ]
  },
  {
   "attachments": {},
   "cell_type": "markdown",
   "metadata": {},
   "source": [
    "### Output lables"
   ]
  },
  {
   "attachments": {},
   "cell_type": "markdown",
   "metadata": {},
   "source": [
    "Lets load the molecules from the MGLL dataset,"
   ]
  },
  {
   "cell_type": "code",
   "execution_count": 3,
   "metadata": {},
   "outputs": [
    {
     "data": {
      "text/html": [
       "<div>\n",
       "<style scoped>\n",
       "    .dataframe tbody tr th:only-of-type {\n",
       "        vertical-align: middle;\n",
       "    }\n",
       "\n",
       "    .dataframe tbody tr th {\n",
       "        vertical-align: top;\n",
       "    }\n",
       "\n",
       "    .dataframe thead th {\n",
       "        text-align: right;\n",
       "    }\n",
       "</style>\n",
       "<table border=\"1\" class=\"dataframe\">\n",
       "  <thead>\n",
       "    <tr style=\"text-align: right;\">\n",
       "      <th></th>\n",
       "      <th>Activity_ID</th>\n",
       "      <th>Quality</th>\n",
       "      <th>source</th>\n",
       "      <th>CID</th>\n",
       "      <th>SMILES</th>\n",
       "      <th>connectivity</th>\n",
       "      <th>InChIKey</th>\n",
       "      <th>InChI</th>\n",
       "      <th>InChI_AuxInfo</th>\n",
       "      <th>target_id</th>\n",
       "      <th>...</th>\n",
       "      <th>type_other</th>\n",
       "      <th>Activity_class</th>\n",
       "      <th>relation</th>\n",
       "      <th>pchembl_value</th>\n",
       "      <th>pchembl_value_Mean</th>\n",
       "      <th>pchembl_value_StdDev</th>\n",
       "      <th>pchembl_value_SEM</th>\n",
       "      <th>pchembl_value_N</th>\n",
       "      <th>pchembl_value_Median</th>\n",
       "      <th>pchembl_value_MAD</th>\n",
       "    </tr>\n",
       "  </thead>\n",
       "  <tbody>\n",
       "    <tr>\n",
       "      <th>0</th>\n",
       "      <td>AADKPDGTJHDJAJ_on_Q99685_WT</td>\n",
       "      <td>High</td>\n",
       "      <td>ChEMBL31</td>\n",
       "      <td>ChEMBL31.compound.177735;ChEMBL31.compound.177...</td>\n",
       "      <td>O=C(Cc1ccc(Cc2ccccc2)cc1)OCC1CO1</td>\n",
       "      <td>AADKPDGTJHDJAJ</td>\n",
       "      <td>AADKPDGTJHDJAJ-UHFFFAOYSA-N</td>\n",
       "      <td>InChI=1S/C18H18O3/c19-18(21-13-17-12-20-17)11-...</td>\n",
       "      <td>\"AuxInfo=1/0/N:12,11,13,10,14,6,15,5,16,8,3,20...</td>\n",
       "      <td>Q99685_WT</td>\n",
       "      <td>...</td>\n",
       "      <td>NaN</td>\n",
       "      <td>NaN</td>\n",
       "      <td>=</td>\n",
       "      <td>5.62;4.8;4.4;4.81;5.61;5.62;4.8;4.4;4.81;5.61;...</td>\n",
       "      <td>5.048</td>\n",
       "      <td>0.498647</td>\n",
       "      <td>0.111501</td>\n",
       "      <td>20.0</td>\n",
       "      <td>4.81</td>\n",
       "      <td>0.41</td>\n",
       "    </tr>\n",
       "    <tr>\n",
       "      <th>1</th>\n",
       "      <td>AAVJAASROXWJAI_on_Q99685_WT</td>\n",
       "      <td>High</td>\n",
       "      <td>ChEMBL31</td>\n",
       "      <td>ChEMBL31.compound.399047</td>\n",
       "      <td>CCCCCCCCCC(=NO)c1c(O)ccc(-c2ccc(OC)cc2)c1</td>\n",
       "      <td>AAVJAASROXWJAI</td>\n",
       "      <td>AAVJAASROXWJAI-UHFFFAOYSA-N</td>\n",
       "      <td>InChI=1S/C23H31NO3/c1-3-4-5-6-7-8-9-10-22(24-2...</td>\n",
       "      <td>\"AuxInfo=1/0/N:1,24,2,3,4,5,6,7,8,9,20,26,17,2...</td>\n",
       "      <td>Q99685_WT</td>\n",
       "      <td>...</td>\n",
       "      <td>NaN</td>\n",
       "      <td>NaN</td>\n",
       "      <td>=</td>\n",
       "      <td>4.44;4.44</td>\n",
       "      <td>4.440</td>\n",
       "      <td>0.000000</td>\n",
       "      <td>0.000000</td>\n",
       "      <td>2.0</td>\n",
       "      <td>4.44</td>\n",
       "      <td>0.00</td>\n",
       "    </tr>\n",
       "    <tr>\n",
       "      <th>2</th>\n",
       "      <td>AAZGPNZTJLHQJM_on_Q99685_WT</td>\n",
       "      <td>High</td>\n",
       "      <td>ExCAPE-DB</td>\n",
       "      <td>599019;ChEMBL31.compound.123531;599019;ChEMBL3...</td>\n",
       "      <td>O=C1C=CC(=O)N1c1ccccc1I</td>\n",
       "      <td>AAZGPNZTJLHQJM</td>\n",
       "      <td>AAZGPNZTJLHQJM-UHFFFAOYSA-N</td>\n",
       "      <td>InChI=1S/C10H6INO2/c11-7-3-1-2-4-8(7)12-9(13)5...</td>\n",
       "      <td>\"AuxInfo=1/0/N:11,10,12,9,3,4,13,8,2,5,14,7,1,...</td>\n",
       "      <td>Q99685_WT</td>\n",
       "      <td>...</td>\n",
       "      <td>NaN</td>\n",
       "      <td>NaN</td>\n",
       "      <td>=</td>\n",
       "      <td>5.3;5.3;5.3;5.3;5.3;5.3;5.3;5.3</td>\n",
       "      <td>5.300</td>\n",
       "      <td>0.000000</td>\n",
       "      <td>0.000000</td>\n",
       "      <td>8.0</td>\n",
       "      <td>5.30</td>\n",
       "      <td>0.00</td>\n",
       "    </tr>\n",
       "    <tr>\n",
       "      <th>3</th>\n",
       "      <td>ABAMRMYDBGTLHX_on_Q99685_WT</td>\n",
       "      <td>High</td>\n",
       "      <td>ChEMBL31</td>\n",
       "      <td>ChEMBL31.compound.123534</td>\n",
       "      <td>O=C1C=CC(=O)N1c1ccccc1-c1ccccc1</td>\n",
       "      <td>ABAMRMYDBGTLHX</td>\n",
       "      <td>ABAMRMYDBGTLHX-UHFFFAOYSA-N</td>\n",
       "      <td>InChI=1S/C16H11NO2/c18-15-10-11-16(19)17(15)14...</td>\n",
       "      <td>\"AuxInfo=1/0/N:17,16,18,11,10,15,19,12,9,3,4,1...</td>\n",
       "      <td>Q99685_WT</td>\n",
       "      <td>...</td>\n",
       "      <td>NaN</td>\n",
       "      <td>NaN</td>\n",
       "      <td>=</td>\n",
       "      <td>5.81;5.81;5.81;5.81</td>\n",
       "      <td>5.810</td>\n",
       "      <td>0.000000</td>\n",
       "      <td>0.000000</td>\n",
       "      <td>4.0</td>\n",
       "      <td>5.81</td>\n",
       "      <td>0.00</td>\n",
       "    </tr>\n",
       "    <tr>\n",
       "      <th>4</th>\n",
       "      <td>AGLVDKDFDZSFKB_on_Q99685_WT</td>\n",
       "      <td>High</td>\n",
       "      <td>ChEMBL31</td>\n",
       "      <td>ChEMBL31.compound.467736</td>\n",
       "      <td>O=C1CCC(COC(=O)N2CCC(COc3c(Cl)cc(F)cc3)CC2)N1</td>\n",
       "      <td>AGLVDKDFDZSFKB</td>\n",
       "      <td>AGLVDKDFDZSFKB-UHFFFAOYSA-N</td>\n",
       "      <td>InChI=1S/C18H22ClFN2O4/c19-15-9-13(20)1-3-16(1...</td>\n",
       "      <td>\"AuxInfo=1/1/N:22,4,23,3,12,24,11,25,19,14,6,1...</td>\n",
       "      <td>Q99685_WT</td>\n",
       "      <td>...</td>\n",
       "      <td>NaN</td>\n",
       "      <td>NaN</td>\n",
       "      <td>=</td>\n",
       "      <td>6.72;6.72</td>\n",
       "      <td>6.720</td>\n",
       "      <td>0.000000</td>\n",
       "      <td>0.000000</td>\n",
       "      <td>2.0</td>\n",
       "      <td>6.72</td>\n",
       "      <td>0.00</td>\n",
       "    </tr>\n",
       "  </tbody>\n",
       "</table>\n",
       "<p>5 rows × 32 columns</p>\n",
       "</div>"
      ],
      "text/plain": [
       "                   Activity_ID Quality     source  \\\n",
       "0  AADKPDGTJHDJAJ_on_Q99685_WT    High   ChEMBL31   \n",
       "1  AAVJAASROXWJAI_on_Q99685_WT    High   ChEMBL31   \n",
       "2  AAZGPNZTJLHQJM_on_Q99685_WT    High  ExCAPE-DB   \n",
       "3  ABAMRMYDBGTLHX_on_Q99685_WT    High   ChEMBL31   \n",
       "4  AGLVDKDFDZSFKB_on_Q99685_WT    High   ChEMBL31   \n",
       "\n",
       "                                                 CID  \\\n",
       "0  ChEMBL31.compound.177735;ChEMBL31.compound.177...   \n",
       "1                           ChEMBL31.compound.399047   \n",
       "2  599019;ChEMBL31.compound.123531;599019;ChEMBL3...   \n",
       "3                           ChEMBL31.compound.123534   \n",
       "4                           ChEMBL31.compound.467736   \n",
       "\n",
       "                                          SMILES    connectivity  \\\n",
       "0               O=C(Cc1ccc(Cc2ccccc2)cc1)OCC1CO1  AADKPDGTJHDJAJ   \n",
       "1      CCCCCCCCCC(=NO)c1c(O)ccc(-c2ccc(OC)cc2)c1  AAVJAASROXWJAI   \n",
       "2                        O=C1C=CC(=O)N1c1ccccc1I  AAZGPNZTJLHQJM   \n",
       "3                O=C1C=CC(=O)N1c1ccccc1-c1ccccc1  ABAMRMYDBGTLHX   \n",
       "4  O=C1CCC(COC(=O)N2CCC(COc3c(Cl)cc(F)cc3)CC2)N1  AGLVDKDFDZSFKB   \n",
       "\n",
       "                      InChIKey  \\\n",
       "0  AADKPDGTJHDJAJ-UHFFFAOYSA-N   \n",
       "1  AAVJAASROXWJAI-UHFFFAOYSA-N   \n",
       "2  AAZGPNZTJLHQJM-UHFFFAOYSA-N   \n",
       "3  ABAMRMYDBGTLHX-UHFFFAOYSA-N   \n",
       "4  AGLVDKDFDZSFKB-UHFFFAOYSA-N   \n",
       "\n",
       "                                               InChI  \\\n",
       "0  InChI=1S/C18H18O3/c19-18(21-13-17-12-20-17)11-...   \n",
       "1  InChI=1S/C23H31NO3/c1-3-4-5-6-7-8-9-10-22(24-2...   \n",
       "2  InChI=1S/C10H6INO2/c11-7-3-1-2-4-8(7)12-9(13)5...   \n",
       "3  InChI=1S/C16H11NO2/c18-15-10-11-16(19)17(15)14...   \n",
       "4  InChI=1S/C18H22ClFN2O4/c19-15-9-13(20)1-3-16(1...   \n",
       "\n",
       "                                       InChI_AuxInfo  target_id  ...  \\\n",
       "0  \"AuxInfo=1/0/N:12,11,13,10,14,6,15,5,16,8,3,20...  Q99685_WT  ...   \n",
       "1  \"AuxInfo=1/0/N:1,24,2,3,4,5,6,7,8,9,20,26,17,2...  Q99685_WT  ...   \n",
       "2  \"AuxInfo=1/0/N:11,10,12,9,3,4,13,8,2,5,14,7,1,...  Q99685_WT  ...   \n",
       "3  \"AuxInfo=1/0/N:17,16,18,11,10,15,19,12,9,3,4,1...  Q99685_WT  ...   \n",
       "4  \"AuxInfo=1/1/N:22,4,23,3,12,24,11,25,19,14,6,1...  Q99685_WT  ...   \n",
       "\n",
       "  type_other Activity_class relation  \\\n",
       "0        NaN            NaN        =   \n",
       "1        NaN            NaN        =   \n",
       "2        NaN            NaN        =   \n",
       "3        NaN            NaN        =   \n",
       "4        NaN            NaN        =   \n",
       "\n",
       "                                       pchembl_value pchembl_value_Mean  \\\n",
       "0  5.62;4.8;4.4;4.81;5.61;5.62;4.8;4.4;4.81;5.61;...              5.048   \n",
       "1                                          4.44;4.44              4.440   \n",
       "2                    5.3;5.3;5.3;5.3;5.3;5.3;5.3;5.3              5.300   \n",
       "3                                5.81;5.81;5.81;5.81              5.810   \n",
       "4                                          6.72;6.72              6.720   \n",
       "\n",
       "   pchembl_value_StdDev pchembl_value_SEM pchembl_value_N  \\\n",
       "0              0.498647          0.111501            20.0   \n",
       "1              0.000000          0.000000             2.0   \n",
       "2              0.000000          0.000000             8.0   \n",
       "3              0.000000          0.000000             4.0   \n",
       "4              0.000000          0.000000             2.0   \n",
       "\n",
       "  pchembl_value_Median pchembl_value_MAD  \n",
       "0                 4.81              0.41  \n",
       "1                 4.44              0.00  \n",
       "2                 5.30              0.00  \n",
       "3                 5.81              0.00  \n",
       "4                 6.72              0.00  \n",
       "\n",
       "[5 rows x 32 columns]"
      ]
     },
     "execution_count": 3,
     "metadata": {},
     "output_type": "execute_result"
    }
   ],
   "source": [
    "data = pd.read_csv('Q99685_papyrus.tsv', sep='\\t')\n",
    "data.head()"
   ]
  },
  {
   "attachments": {},
   "cell_type": "markdown",
   "metadata": {},
   "source": [
    "and create output labels by calculating the clogP values for the molecules,"
   ]
  },
  {
   "cell_type": "code",
   "execution_count": 4,
   "metadata": {},
   "outputs": [
    {
     "data": {
      "text/plain": [
       "<Axes: ylabel='Frequency'>"
      ]
     },
     "execution_count": 4,
     "metadata": {},
     "output_type": "execute_result"
    },
    {
     "data": {
      "image/png": "[encoded data removed]",
      "text/plain": [
       "<Figure size 400x300 with 1 Axes>"
      ]
     },
     "metadata": {},
     "output_type": "display_data"
    }
   ],
   "source": [
    "from rdkit import Chem\n",
    "from rdkit.Chem import Descriptors\n",
    "\n",
    "# New column with the clogP value\n",
    "# Each SMILES string is converted to a rdkit molecule object and the clogP value is calculated \n",
    "# using the MolLogP function from the rdkit.Chem.Descriptors module\n",
    "data['clogP'] = data['SMILES'].apply(lambda x: Descriptors.MolLogP(Chem.MolFromSmiles(x)))\n",
    "\n",
    "# Plot the histogram of the clogP values with pandas plot function\n",
    "data.plot.hist(y='clogP', bins=20, figsize=(4, 3))"
   ]
  },
  {
   "cell_type": "code",
   "execution_count": 5,
   "metadata": {},
   "outputs": [
    {
     "data": {
      "text/html": [
       "<div>\n",
       "<style scoped>\n",
       "    .dataframe tbody tr th:only-of-type {\n",
       "        vertical-align: middle;\n",
       "    }\n",
       "\n",
       "    .dataframe tbody tr th {\n",
       "        vertical-align: top;\n",
       "    }\n",
       "\n",
       "    .dataframe thead th {\n",
       "        text-align: right;\n",
       "    }\n",
       "</style>\n",
       "<table border=\"1\" class=\"dataframe\">\n",
       "  <thead>\n",
       "    <tr style=\"text-align: right;\">\n",
       "      <th></th>\n",
       "      <th>SMILES</th>\n",
       "      <th>clogP</th>\n",
       "    </tr>\n",
       "  </thead>\n",
       "  <tbody>\n",
       "    <tr>\n",
       "      <th>0</th>\n",
       "      <td>O=C(Cc1ccc(Cc2ccccc2)cc1)OCC1CO1</td>\n",
       "      <td>2.7619</td>\n",
       "    </tr>\n",
       "    <tr>\n",
       "      <th>1</th>\n",
       "      <td>CCCCCCCCCC(=NO)c1c(O)ccc(-c2ccc(OC)cc2)c1</td>\n",
       "      <td>6.3868</td>\n",
       "    </tr>\n",
       "    <tr>\n",
       "      <th>2</th>\n",
       "      <td>O=C1C=CC(=O)N1c1ccccc1I</td>\n",
       "      <td>1.7206</td>\n",
       "    </tr>\n",
       "    <tr>\n",
       "      <th>3</th>\n",
       "      <td>O=C1C=CC(=O)N1c1ccccc1-c1ccccc1</td>\n",
       "      <td>2.7830</td>\n",
       "    </tr>\n",
       "    <tr>\n",
       "      <th>4</th>\n",
       "      <td>O=C1CCC(COC(=O)N2CCC(COc3c(Cl)cc(F)cc3)CC2)N1</td>\n",
       "      <td>2.9851</td>\n",
       "    </tr>\n",
       "  </tbody>\n",
       "</table>\n",
       "</div>"
      ],
      "text/plain": [
       "                                          SMILES   clogP\n",
       "0               O=C(Cc1ccc(Cc2ccccc2)cc1)OCC1CO1  2.7619\n",
       "1      CCCCCCCCCC(=NO)c1c(O)ccc(-c2ccc(OC)cc2)c1  6.3868\n",
       "2                        O=C1C=CC(=O)N1c1ccccc1I  1.7206\n",
       "3                O=C1C=CC(=O)N1c1ccccc1-c1ccccc1  2.7830\n",
       "4  O=C1CCC(COC(=O)N2CCC(COc3c(Cl)cc(F)cc3)CC2)N1  2.9851"
      ]
     },
     "execution_count": 5,
     "metadata": {},
     "output_type": "execute_result"
    }
   ],
   "source": [
    "# Lets drop all other columns except the SMILES and clogP columns\n",
    "data = data[['SMILES', 'clogP']]\n",
    "data.head()"
   ]
  },
  {
   "attachments": {},
   "cell_type": "markdown",
   "metadata": {},
   "source": [
    "### Input features"
   ]
  },
  {
   "attachments": {},
   "cell_type": "markdown",
   "metadata": {},
   "source": [
    "As you have learn by now, there are a variety of molecular descriptors that can be used to as input features of a QSPR model. In this practical we will use the [MACCS keys](https://doi.org/10.1021/ci010132r), a binary molecular fingerprint of 167 bits, calculated with `rdkit`."
   ]
  },
  {
   "cell_type": "code",
   "execution_count": 6,
   "metadata": {},
   "outputs": [
    {
     "data": {
      "text/html": [
       "<div>\n",
       "<style scoped>\n",
       "    .dataframe tbody tr th:only-of-type {\n",
       "        vertical-align: middle;\n",
       "    }\n",
       "\n",
       "    .dataframe tbody tr th {\n",
       "        vertical-align: top;\n",
       "    }\n",
       "\n",
       "    .dataframe thead th {\n",
       "        text-align: right;\n",
       "    }\n",
       "</style>\n",
       "<table border=\"1\" class=\"dataframe\">\n",
       "  <thead>\n",
       "    <tr style=\"text-align: right;\">\n",
       "      <th></th>\n",
       "      <th>SMILES</th>\n",
       "      <th>clogP</th>\n",
       "      <th>MACCS</th>\n",
       "    </tr>\n",
       "  </thead>\n",
       "  <tbody>\n",
       "    <tr>\n",
       "      <th>0</th>\n",
       "      <td>O=C(Cc1ccc(Cc2ccccc2)cc1)OCC1CO1</td>\n",
       "      <td>2.7619</td>\n",
       "      <td>[0, 0, 0, 0, 0, 0, 0, 0, 0, 0, 0, 0, 0, 0, 0, ...</td>\n",
       "    </tr>\n",
       "    <tr>\n",
       "      <th>1</th>\n",
       "      <td>CCCCCCCCCC(=NO)c1c(O)ccc(-c2ccc(OC)cc2)c1</td>\n",
       "      <td>6.3868</td>\n",
       "      <td>[0, 0, 0, 0, 0, 0, 0, 0, 0, 0, 0, 0, 0, 0, 0, ...</td>\n",
       "    </tr>\n",
       "    <tr>\n",
       "      <th>2</th>\n",
       "      <td>O=C1C=CC(=O)N1c1ccccc1I</td>\n",
       "      <td>1.7206</td>\n",
       "      <td>[0, 0, 0, 0, 0, 0, 0, 0, 0, 0, 0, 0, 0, 0, 0, ...</td>\n",
       "    </tr>\n",
       "    <tr>\n",
       "      <th>3</th>\n",
       "      <td>O=C1C=CC(=O)N1c1ccccc1-c1ccccc1</td>\n",
       "      <td>2.7830</td>\n",
       "      <td>[0, 0, 0, 0, 0, 0, 0, 0, 0, 0, 0, 0, 0, 0, 0, ...</td>\n",
       "    </tr>\n",
       "    <tr>\n",
       "      <th>4</th>\n",
       "      <td>O=C1CCC(COC(=O)N2CCC(COc3c(Cl)cc(F)cc3)CC2)N1</td>\n",
       "      <td>2.9851</td>\n",
       "      <td>[0, 0, 0, 0, 0, 0, 0, 0, 0, 0, 0, 0, 0, 0, 0, ...</td>\n",
       "    </tr>\n",
       "  </tbody>\n",
       "</table>\n",
       "</div>"
      ],
      "text/plain": [
       "                                          SMILES   clogP  \\\n",
       "0               O=C(Cc1ccc(Cc2ccccc2)cc1)OCC1CO1  2.7619   \n",
       "1      CCCCCCCCCC(=NO)c1c(O)ccc(-c2ccc(OC)cc2)c1  6.3868   \n",
       "2                        O=C1C=CC(=O)N1c1ccccc1I  1.7206   \n",
       "3                O=C1C=CC(=O)N1c1ccccc1-c1ccccc1  2.7830   \n",
       "4  O=C1CCC(COC(=O)N2CCC(COc3c(Cl)cc(F)cc3)CC2)N1  2.9851   \n",
       "\n",
       "                                               MACCS  \n",
       "0  [0, 0, 0, 0, 0, 0, 0, 0, 0, 0, 0, 0, 0, 0, 0, ...  \n",
       "1  [0, 0, 0, 0, 0, 0, 0, 0, 0, 0, 0, 0, 0, 0, 0, ...  \n",
       "2  [0, 0, 0, 0, 0, 0, 0, 0, 0, 0, 0, 0, 0, 0, 0, ...  \n",
       "3  [0, 0, 0, 0, 0, 0, 0, 0, 0, 0, 0, 0, 0, 0, 0, ...  \n",
       "4  [0, 0, 0, 0, 0, 0, 0, 0, 0, 0, 0, 0, 0, 0, 0, ...  "
      ]
     },
     "execution_count": 6,
     "metadata": {},
     "output_type": "execute_result"
    }
   ],
   "source": [
    "from rdkit.Chem import MACCSkeys\n",
    "\n",
    "# New column with the MACCS keys\n",
    "# Each SMILES string is converted to a rdkit molecule object and the MACCS keys are calculated\n",
    "# using the GenMACCSKeys function from the rdkit.Chem.MACCSkeys module\n",
    "data['MACCS'] = data['SMILES'].apply(lambda x: MACCSkeys.GenMACCSKeys(Chem.MolFromSmiles(x)))\n",
    "data.head()"
   ]
  },
  {
   "attachments": {},
   "cell_type": "markdown",
   "metadata": {},
   "source": [
    "### Data splits\n",
    "\n",
    "Next we split the data into three subsets:\n",
    "- training set (50%) - the initial training set\n",
    "- learning set (30%) -  a set from which the model can select new training data points during the active learning process\n",
    "- test set (20%) - independant test set used to evaluate the model"
   ]
  },
  {
   "cell_type": "code",
   "execution_count": 7,
   "metadata": {},
   "outputs": [],
   "source": [
    "from sklearn.model_selection import train_test_split\n",
    "\n",
    "indices = np.arange(data.shape[0])\n",
    "\n",
    "# Split the data into train and test sets\n",
    "train_idx, test_idx = train_test_split(indices, test_size=2/10, random_state=seed)\n",
    "\n",
    "# Split the train set into train and learn sets\n",
    "train_idx, learn_idx = train_test_split(train_idx, test_size=3/8, random_state=seed)\n",
    "\n",
    "# Create a new column with the subset name\n",
    "data.loc[train_idx, 'Subset'] = 'Train'\n",
    "data.loc[learn_idx, 'Subset'] = 'Learn'\n",
    "data.loc[test_idx, 'Subset'] = 'Test'"
   ]
  },
  {
   "attachments": {},
   "cell_type": "markdown",
   "metadata": {},
   "source": [
    "## Uncertainty quantification\n",
    "\n",
    "In this practical, we will use a neural network model with combined with too uncertainty quantification methods:\n",
    "- [Mean-variance estimation](https://ieeexplore.ieee.org/document/374138) to estimate the aleatoric uncertainty. Instead of single output node the neural network has two output nodes.  One corresponding to the mean prediction and the other to estimated aleatoric uncertainty. \n",
    "\n",
    "- [Monte Carlo dropout](https://arxiv.org/abs/1506.02142) as an approximate a Baysian network to measure the epistemic uncertainty of the model. During prediction multiple forward passes are done where at each pass a different subset of nodes are masked. Thus, we get a set of predictions for each molecules, from which we can estimate the mean and the epistemic uncertainty.\n",
    "\n",
    "![image](images/MVE_MCdropout.PNG)"
   ]
  },
  {
   "attachments": {},
   "cell_type": "markdown",
   "metadata": {},
   "source": [
    "### Dataloaders\n",
    "\n",
    "For the section on the uncertainty quantification, we will only use the train and test subsets. Lets create `torch.Dataloader`s for both the bioactivity and logP predictions:"
   ]
  },
  {
   "cell_type": "code",
   "execution_count": 9,
   "metadata": {},
   "outputs": [],
   "source": [
    "from utils import create_dataloader\n",
    "\n",
    "train_loader = create_dataloader(data, 'Train', 'clogP', 'MACCS', batch_size=BATCH_SIZE)\n",
    "test_loader = create_dataloader(data, 'Test', 'clogP', 'MACCS', batch_size=BATCH_SIZE)"
   ]
  },
  {
   "attachments": {},
   "cell_type": "markdown",
   "metadata": {},
   "source": [
    "### Common models hyperparameters\n",
    "\n",
    "Lets define some common model hyperparameters for all models for consistency"
   ]
  },
  {
   "cell_type": "code",
   "execution_count": 23,
   "metadata": {},
   "outputs": [],
   "source": [
    "BATCH_SIZE = 128\n",
    "EPOCHS = 100\n",
    "INPUT_SIZE = 167 # Length of the MACCS keys\n",
    "HIDDEN_SIZE = 64"
   ]
  },
  {
   "attachments": {},
   "cell_type": "markdown",
   "metadata": {},
   "source": [
    "### Helper function to evaluate the uncertainty quantification"
   ]
  },
  {
   "cell_type": "code",
   "execution_count": 31,
   "metadata": {},
   "outputs": [],
   "source": [
    "from scipy.stats import norm, spearmanr\n",
    "\n",
    "def compute_calibration_curve(y_true, y_mean, y_var, step=0.01):\n",
    "\n",
    "    \"\"\"\n",
    "    Computes the calibration curve and the miscalibration area (MCA) for a given set of predictions.\n",
    "\n",
    "    Parameters\n",
    "    ----------\n",
    "    y_true : numpy array\n",
    "        True values of the target variable.\n",
    "    y_mean : numpy array\n",
    "        Mean of the predicted values of the target variable.\n",
    "    y_var : numpy array\n",
    "        Variance of the predicted values of the target variable.\n",
    "\n",
    "    Returns\n",
    "    -------\n",
    "    expected_frac : numpy array\n",
    "        Expected fraction of samples in each bin.\n",
    "    real_frac : numpy array\n",
    "        Real fraction of samples in each bin.\n",
    "    mca : float\n",
    "        Miscalibration area.\n",
    "    \"\"\"\n",
    "\n",
    "    expected_frac = np.array( [ 2*i for i in np.arange(0,0.5+step,step) ] )  \n",
    "    real_frac = []\n",
    "    for j in range(len(expected_frac)):\n",
    "        plow = 0.5 - expected_frac[j] / 2\n",
    "        pup = 0.5 + expected_frac[j] / 2\n",
    "        cum = 0\n",
    "        for k in range(nmols):\n",
    "            if norm.ppf(plow, loc=y_pred[k], scale=y_var[k]) <= y[k] <= norm.ppf(pup, loc=y_pred[k], scale=y_var[k]): cum += 1            \n",
    "        real_frac.append(cum/nmols)\n",
    "\n",
    "    c_norm = simps(np.array(expected_frac))\n",
    "    cal_diff = np.abs(real_frac-expected_frac)\n",
    "    mca = simps(cal_diff/c_norm)\n",
    "    \n",
    "    return expected_frac, real_frac, mca\n",
    "\n",
    "def plot_calibration_curve(y_true, y_mean, y_var):\n",
    "\n",
    "    \"\"\"\n",
    "    Plots the calibration curve and the miscalibration area (MCA) for a given set of predictions.\n",
    "\n",
    "    Parameters\n",
    "    ----------\n",
    "    y_true : numpy array\n",
    "        True values of the target variable.\n",
    "    y_mean : numpy array\n",
    "        Mean of the predicted values of the target variable.\n",
    "    y_var : numpy array\n",
    "        Variance of the predicted values of the target variable.\n",
    "    \"\"\"\n",
    "\n",
    "    expected_frac, real_frac, mca = compute_calibration_curve(y_true, y_mean, y_var)\n",
    "    \n",
    "    fig, ax = plt.subplots(figsize=(4, 4))\n",
    "\n",
    "    ax.plot(expected_frac, real_frac, 'o-', label='MCA = {:.2f}'.format(mca))\n",
    "    ax.plot([0, 1], [0, 1], 'k--', label='Perfect calibration')\n",
    "    ax.set_xlabel('Expected fraction')\n",
    "    ax.set_ylabel('Observed fraction')\n",
    "\n",
    "    ax.legend(loc='lower right')\n",
    "    ax.grid(linestyle='--', alpha=0.5)\n"
   ]
  },
  {
   "cell_type": "code",
   "execution_count": 28,
   "metadata": {},
   "outputs": [],
   "source": [
    "def compute_spearmanr(y_true, y_mean, y_var):\n",
    "\n",
    "    \"\"\"\n",
    "    Computes the Spearman rank correlation coefficient betweem the predicted \n",
    "    variance and the absolute error for a given set of predictions.\n",
    "\n",
    "    Parameters\n",
    "    ----------\n",
    "    y_true : numpy array\n",
    "        True values of the target variable.\n",
    "    y_mean : numpy array\n",
    "        Mean of the predicted values of the target variable.\n",
    "    y_var : numpy array\n",
    "        Variance of the predicted values of the target variable.\n",
    "\n",
    "    Returns\n",
    "    -------\n",
    "    spearmanr : float\n",
    "        Spearman rank correlation coefficient.\n",
    "    \"\"\"\n",
    "\n",
    "    absolute_error = np.abs(y_true - y_mean)\n",
    "    spearmanr = spearmanr(absolute_error, y_var)[0]\n",
    "    \n",
    "    return spearmanr"
   ]
  },
  {
   "cell_type": "code",
   "execution_count": null,
   "metadata": {},
   "outputs": [],
   "source": [
    "def compute_ence(y_true, y_mean, y_var, bins=10):\n",
    "\n",
    "    \"\"\"\n",
    "    Computes the expected normalized calibration error (ENCE) for a given set of predictions.\n",
    "\n",
    "    Parameters\n",
    "    ----------\n",
    "    y_true : numpy array\n",
    "        True values of the target variable.\n",
    "    y_mean : numpy array\n",
    "        Mean of the predicted values of the target variable.\n",
    "    y_var : numpy array\n",
    "        Variance of the predicted values of the target variable.\n",
    "    bins : int, optional\n",
    "        Number of bins to use for the ENCE calculation.\n",
    "\n",
    "    Returns\n",
    "    -------\n",
    "    ence : float\n",
    "        Expected normalized calibration error.\n",
    "    \"\"\"\n",
    "\n",
    "    \n",
    "    \n",
    "    return ence"
   ]
  },
  {
   "attachments": {},
   "cell_type": "markdown",
   "metadata": {},
   "source": [
    "### Aleatoric uncertainty\n",
    "\n",
    "Lets start with the MVE: a neural network with _**two output nodes**_ coupled with a [Gaussian negative log likelihood loss](https://pytorch.org/docs/stable/generated/torch.nn.GaussianNLLLoss.html), which is a loss function that depends both on the predicted mean and variance values."
   ]
  },
  {
   "cell_type": "code",
   "execution_count": 10,
   "metadata": {},
   "outputs": [],
   "source": [
    "import torch\n",
    "from torch import nn\n",
    "\n",
    "class NeuralNetworkMVE(nn.Module):\n",
    "    \"\"\"\n",
    "    Simple neural network with two fully connected layers.\n",
    "    \n",
    "    Parameters\n",
    "    ----------\n",
    "    input_size : int\n",
    "        Number of input features.\n",
    "    hidden_size : int\n",
    "        Number of hidden units.\n",
    "    \"\"\"\n",
    "    def __init__(self, input_size, hidden_size):\n",
    "        super(NeuralNetworkMVE, self).__init__()\n",
    "        self.linear_relu_stack = nn.Sequential(\n",
    "            nn.Linear(input_size, hidden_size), # 1st layer\n",
    "            nn.ReLU(), # activation function\n",
    "            nn.Linear(hidden_size, hidden_size), # 2nd layer\n",
    "            nn.ReLU(), # activation function\n",
    "            nn.Linear(hidden_size, 2), # output layer\n",
    "        )\n",
    "\n",
    "    def forward(self, x):\n",
    "        preds = self.linear_relu_stack(x)\n",
    "        mean = preds[:, 0]\n",
    "        var = torch.abs(preds[:, 1]) # we use the absolute value of the variance to ensure it is positive\n",
    "        return mean, var"
   ]
  },
  {
   "attachments": {},
   "cell_type": "markdown",
   "metadata": {},
   "source": [
    "Now that we have defined our model, lets create a helper functions to train the model with the `GaussianNLLLoss` and the `Adam` optimizer, and to make predictions."
   ]
  },
  {
   "cell_type": "code",
   "execution_count": 11,
   "metadata": {},
   "outputs": [],
   "source": [
    "def trainMVE(dataloader, model, epochs):\n",
    "    for epoch in range(epochs):\n",
    "        device = torch.device(\"cpu\")\n",
    "        loss_fn = nn.GaussianNLLLoss()\n",
    "        optimizer = torch.optim.Adam(model.parameters(), lr=1e-3)\n",
    "        model.train()\n",
    "        for batch, (X, y) in enumerate(dataloader):\n",
    "            X, y = X.to(device), y.to(device)\n",
    "\n",
    "            # Make predictions\n",
    "            mean, var = model(X)\n",
    "\n",
    "            # Compute loss\n",
    "            loss = loss_fn(y, mean, var)\n",
    "\n",
    "            # Backpropagation\n",
    "            optimizer.zero_grad()\n",
    "            loss.backward()\n",
    "            optimizer.step()\n",
    "\n",
    "        if epoch % 100 == 0 or epoch == epochs - 1:\n",
    "            print(f\"Epoch {epoch} - loss: {loss.item():>7f}\")\n",
    "\n",
    "def predictMVE(dataloader, model):\n",
    "    device = torch.device(\"cpu\")\n",
    "    model.eval()\n",
    "    means, vars = [], []\n",
    "    for batch, (X, y) in enumerate(dataloader):\n",
    "        X, y = X.to(device), y.to(device)\n",
    "        with torch.no_grad():\n",
    "            mean, var = model(X)\n",
    "        means.append(mean)\n",
    "        vars.append(var)\n",
    "\n",
    "    means = torch.cat(means)\n",
    "    vars = torch.cat(vars)\n",
    "    return means, vars"
   ]
  },
  {
   "attachments": {},
   "cell_type": "markdown",
   "metadata": {},
   "source": [
    "Now that we have defined to model and functions to train it and predict with it. Lets use the model to predict clogP values with an estimation of the aletoric uncertainty."
   ]
  },
  {
   "cell_type": "code",
   "execution_count": 13,
   "metadata": {},
   "outputs": [
    {
     "name": "stdout",
     "output_type": "stream",
     "text": [
      "Epoch 0 - loss: 110.196770\n",
      "Epoch 99 - loss: 3.572815\n"
     ]
    }
   ],
   "source": [
    "seed_everything(seed) #ensure reproducibility of results across runs\n",
    "model = NeuralNetworkMVE(input_size=INPUT_SIZE, hidden_size=HIDDEN_SIZE)\n",
    "trainMVE(train_loader, model, epochs=EPOCHS)\n",
    "y_test_mean, y_test_var = predictMVE(test_loader, model)"
   ]
  },
  {
   "cell_type": "code",
   "execution_count": 14,
   "metadata": {},
   "outputs": [
    {
     "data": {
      "image/png": "[encoded data removed]",
      "text/plain": [
       "<Figure size 400x400 with 1 Axes>"
      ]
     },
     "metadata": {},
     "output_type": "display_data"
    },
    {
     "data": {
      "image/png": "[encoded data removed]",
      "text/plain": [
       "<Figure size 400x400 with 1 Axes>"
      ]
     },
     "metadata": {},
     "output_type": "display_data"
    }
   ],
   "source": [
    "from utils import variance_distribution_plot, correlation_plot\n",
    "\n",
    "variance_distribution_plot(y_test_var, 'clogP')\n",
    "\n",
    "correlation_plot(\n",
    "    data[data.Subset == 'Test']['clogP'].values,\n",
    "    y_test_mean.detach().numpy(),\n",
    "    y_test_var.detach().numpy(),\n",
    "    title='clogP',\n",
    ")"
   ]
  },
  {
   "attachments": {},
   "cell_type": "markdown",
   "metadata": {},
   "source": [
    "### Epistemic uncertainty\n",
    "\n",
    "Now lets try to estimate the epistemic uncertainty of our models with Monte Carlo dropout. Here, we build a classical neural network with a _**sigle output node**_ and train it based on the classic [mean squared error loss](https://pytorch.org/docs/stable/generated/torch.nn.MSELoss.html#torch.nn.MSELoss). However, during prediction making, we create a virtual ensemble model to get the mean prediction and the epistemic uncertainty by making predictions with 10 versions of the models where 20% of the nodes are silenced (selected add radom). "
   ]
  },
  {
   "cell_type": "code",
   "execution_count": 15,
   "metadata": {},
   "outputs": [],
   "source": [
    "class NeuralNetwork(nn.Module):\n",
    "    \"\"\"\n",
    "    Simple neural network with two fully connected layers.\n",
    "    \n",
    "    Parameters\n",
    "    ----------\n",
    "    input_size : int\n",
    "        Number of input features.\n",
    "    hidden_size : int\n",
    "        Number of hidden units.\n",
    "    dropout : float\n",
    "        Dropout rate.\n",
    "    \"\"\"\n",
    "    def __init__(self, input_size, hidden_size, dropout=0.2):\n",
    "        super(NeuralNetwork, self).__init__()\n",
    "        self.linear_relu_stack = nn.Sequential(\n",
    "            nn.Linear(input_size, hidden_size),\n",
    "            nn.ReLU(),\n",
    "            nn.Dropout(dropout),\n",
    "            nn.Linear(hidden_size, hidden_size),\n",
    "            nn.ReLU(),\n",
    "            nn.Dropout(dropout),\n",
    "            nn.Linear(hidden_size, 1),\n",
    "        )\n",
    "\n",
    "    def forward(self, x):\n",
    "        return self.linear_relu_stack(x)"
   ]
  },
  {
   "attachments": {},
   "cell_type": "markdown",
   "metadata": {},
   "source": [
    "As originally MC dropout was developped for model regularization during training (to avoid overfitting), and here we want to use it for multiple predictions, we need to create two helper functions to disable dropout layers during training and enabling them during evaluation."
   ]
  },
  {
   "cell_type": "code",
   "execution_count": 16,
   "metadata": {},
   "outputs": [],
   "source": [
    "def disable_dropout(model):\n",
    "    \"\"\" Function to disable the dropout layers during training \"\"\"\n",
    "    for m in model.modules():\n",
    "        if m.__class__.__name__.startswith('Dropout'):\n",
    "            m.eval()\n",
    "\n",
    "def enable_dropout(model):\n",
    "    \"\"\" Function to enable the dropout layers during evaluation \"\"\"\n",
    "    for m in model.modules():\n",
    "        if m.__class__.__name__.startswith('Dropout'):\n",
    "            m.train()"
   ]
  },
  {
   "attachments": {},
   "cell_type": "markdown",
   "metadata": {},
   "source": [
    "Once againg, lets create some helper functions to train and evaluate the model."
   ]
  },
  {
   "cell_type": "code",
   "execution_count": 17,
   "metadata": {},
   "outputs": [],
   "source": [
    "def trainWithoutDropout(dataloader, model, epochs):\n",
    "\n",
    "    for epoch in range(epochs):\n",
    "        device = torch.device(\"cpu\")\n",
    "        loss_fn = nn.MSELoss()\n",
    "        optimizer = torch.optim.Adam(model.parameters(), lr=1e-3, weight_decay=1e-4)\n",
    "        model.train()\n",
    "        disable_dropout(model) #disable dropout layers during training\n",
    "        for batch, (X, y) in enumerate(dataloader):\n",
    "            X, y = X.to(device), y.to(device)\n",
    "\n",
    "            # Make predictions\n",
    "            pred = model(X)\n",
    "\n",
    "            # Compute loss\n",
    "            loss = loss_fn(y, pred)\n",
    "\n",
    "            # Backpropagation\n",
    "            optimizer.zero_grad()\n",
    "            loss.backward()\n",
    "            optimizer.step()\n",
    "\n",
    "        if epoch % 100 == 0 or epoch == epochs - 1:\n",
    "            print(f\"Epoch {epoch} - loss: {loss.item():>7f}\")\n",
    "\n",
    "def predictWithDropout(dataloader, model, n_samples=10):\n",
    "    device = torch.device(\"cpu\")\n",
    "    model.eval()\n",
    "    enable_dropout(model)\n",
    "    preds = np.empty((len(dataloader.dataset), n_samples))\n",
    "    for sample in range(n_samples):\n",
    "        preds_sample = []\n",
    "        for batch, (X, y) in enumerate(dataloader):\n",
    "            X, y = X.to(device), y.to(device)\n",
    "            with torch.no_grad():\n",
    "                pred = model(X)\n",
    "            preds_sample.append(pred)\n",
    "        preds_sample = torch.cat(preds_sample)\n",
    "        preds[:, sample] = preds_sample.detach().numpy().squeeze()\n",
    "\n",
    "    mean = torch.Tensor(preds.mean(axis=1))\n",
    "    var = torch.Tensor(preds.var(axis=1))\n",
    "\n",
    "    return mean, var"
   ]
  },
  {
   "cell_type": "code",
   "execution_count": 18,
   "metadata": {},
   "outputs": [
    {
     "name": "stdout",
     "output_type": "stream",
     "text": [
      "Epoch 0 - loss: 15.506663\n",
      "Epoch 99 - loss: 2.387097\n"
     ]
    }
   ],
   "source": [
    "seed_everything(seed) #ensure reproducibility of results across runs\n",
    "model = NeuralNetwork(input_size=INPUT_SIZE, hidden_size=HIDDEN_SIZE, dropout=0.2)\n",
    "trainWithoutDropout(train_loader, model, epochs=EPOCHS)\n",
    "y_test_mean, y_test_var = predictWithDropout(test_loader, model, n_samples=100)"
   ]
  },
  {
   "cell_type": "code",
   "execution_count": 19,
   "metadata": {},
   "outputs": [
    {
     "data": {
      "image/png": "[encoded data removed]",
      "text/plain": [
       "<Figure size 400x400 with 1 Axes>"
      ]
     },
     "metadata": {},
     "output_type": "display_data"
    },
    {
     "data": {
      "image/png": "[encoded data removed]",
      "text/plain": [
       "<Figure size 400x400 with 1 Axes>"
      ]
     },
     "metadata": {},
     "output_type": "display_data"
    }
   ],
   "source": [
    "from utils import variance_distribution_plot, correlation_plot\n",
    "\n",
    "variance_distribution_plot(y_test_var, 'clogP')\n",
    "\n",
    "correlation_plot(\n",
    "    data[data.Subset == 'Test']['clogP'].values,\n",
    "    y_test_mean.detach().numpy(),\n",
    "    y_test_var.detach().numpy(),\n",
    "    title='clogP',\n",
    ")"
   ]
  },
  {
   "attachments": {},
   "cell_type": "markdown",
   "metadata": {},
   "source": [
    "### Total uncertainty in regression models\n",
    "\n",
    "We can approximate the predictive variance as a combination of aletoric and epistemic uncertanties from the MVE and MC dropout (see [nn_total_uncertainty.py](nn_total_uncertainty.py))."
   ]
  },
  {
   "cell_type": "code",
   "execution_count": 20,
   "metadata": {},
   "outputs": [
    {
     "name": "stdout",
     "output_type": "stream",
     "text": [
      "Epoch 0 - loss: 110.196770\n",
      "Epoch 99 - loss: 3.572815\n"
     ]
    }
   ],
   "source": [
    "from nn_total_uncertainty import MVENetworkWithDropout, train, predict\n",
    "\n",
    "seed_everything(seed) #ensure reproducibility of results across runs\n",
    "model = MVENetworkWithDropout(input_size=INPUT_SIZE, hidden_size=HIDDEN_SIZE, dropout=0.2)\n",
    "train(train_loader, model, epochs=EPOCHS)\n",
    "y_test_mean, y_test_var = predict(test_loader, model, n_samples=100)"
   ]
  },
  {
   "cell_type": "code",
   "execution_count": 21,
   "metadata": {},
   "outputs": [
    {
     "data": {
      "image/png": "[encoded data removed]",
      "text/plain": [
       "<Figure size 400x400 with 1 Axes>"
      ]
     },
     "metadata": {},
     "output_type": "display_data"
    },
    {
     "data": {
      "image/png": "[encoded data removed]",
      "text/plain": [
       "<Figure size 400x400 with 1 Axes>"
      ]
     },
     "metadata": {},
     "output_type": "display_data"
    }
   ],
   "source": [
    "from utils import variance_distribution_plot, correlation_plot\n",
    "\n",
    "variance_distribution_plot(y_test_var, 'clogP')\n",
    "\n",
    "correlation_plot(\n",
    "    data[data.Subset == 'Test']['clogP'].values,\n",
    "    y_test_mean.detach().numpy(),\n",
    "    y_test_var.detach().numpy(),\n",
    "    title='clogP',\n",
    ")"
   ]
  },
  {
   "cell_type": "markdown",
   "metadata": {},
   "source": []
  }
 ],
 "metadata": {
  "kernelspec": {
   "display_name": "ulla",
   "language": "python",
   "name": "python3"
  },
  "language_info": {
   "codemirror_mode": {
    "name": "ipython",
    "version": 3
   },
   "file_extension": ".py",
   "mimetype": "text/x-python",
   "name": "python",
   "nbconvert_exporter": "python",
   "pygments_lexer": "ipython3",
   "version": "3.9.16"
  },
  "orig_nbformat": 4,
  "vscode": {
   "interpreter": {
    "hash": "ae7115da0ecd2e26e68db2d26f1db392df4abaf47fa531bfaf50fbd42acd65c2"
   }
  }
 },
 "nbformat": 4,
 "nbformat_minor": 2
}
